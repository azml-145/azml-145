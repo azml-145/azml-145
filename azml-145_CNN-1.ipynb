{
  "nbformat": 4,
  "nbformat_minor": 0,
  "metadata": {
    "colab": {
      "name": "2. Fashion",
      "provenance": [],
      "collapsed_sections": [],
      "machine_shape": "hm"
    },
    "kernelspec": {
      "name": "python3",
      "display_name": "Python 3"
    },
    "accelerator": "GPU"
  },
  "cells": [
    {
      "cell_type": "markdown",
      "metadata": {
        "id": "glYaWJOqZJN5"
      },
      "source": [
        "### Keras CNN으로 패션 아이템 구분하기"
      ]
    },
    {
      "cell_type": "markdown",
      "metadata": {
        "id": "kfI8fqr9ZSeB"
      },
      "source": [
        "1. 패키지 수입 및 파라미터 지정"
      ]
    },
    {
      "cell_type": "code",
      "metadata": {
        "id": "rjmOxTtZZDYV"
      },
      "source": [
        "# 패키지 수입\r\n",
        "import matplotlib.pyplot as plt\r\n",
        "import numpy as np\r\n",
        "\r\n",
        "from time import time\r\n",
        "from keras.datasets import fashion_mnist\r\n",
        "from keras.models import Sequential\r\n",
        "from keras.utils import np_utils\r\n",
        "\r\n",
        "from keras.layers import Flatten\r\n",
        "from keras.layers import Dense, MaxPool2D\r\n",
        "from keras.layers import Conv2D, InputLayer"
      ],
      "execution_count": 1,
      "outputs": []
    },
    {
      "cell_type": "code",
      "metadata": {
        "id": "vOgrGlYHa9JX"
      },
      "source": [
        "# 파라미터\r\n",
        "MY_EPOCH = 10\r\n",
        "MY_BATCH = 500"
      ],
      "execution_count": 2,
      "outputs": []
    },
    {
      "cell_type": "markdown",
      "metadata": {
        "id": "iylbh4rDeK35"
      },
      "source": [
        "2. 데이터 처리"
      ]
    },
    {
      "cell_type": "code",
      "metadata": {
        "id": "koGEnxd6bIdY",
        "colab": {
          "base_uri": "https://localhost:8080/"
        },
        "outputId": "a8eaa7e9-940f-4621-dcc8-06aba2ff8007"
      },
      "source": [
        "# 데이터 불러오기\r\n",
        "(X_train, Y_train), (X_test, Y_test) = fashion_mnist.load_data()\r\n",
        "\r\n",
        "print('학습용 입력 데이터:', X_train.shape)\r\n",
        "print('학습용 출력 데이터:', Y_train.shape)\r\n",
        "\r\n",
        "print('평가용 입력 데이터:', X_test.shape)\r\n",
        "print('평가용 출력 데아터:', Y_test.shape)"
      ],
      "execution_count": 3,
      "outputs": [
        {
          "output_type": "stream",
          "text": [
            "학습용 입력 데이터: (60000, 28, 28)\n",
            "학습용 출력 데이터: (60000,)\n",
            "평가용 입력 데이터: (10000, 28, 28)\n",
            "평가용 출력 데아터: (10000,)\n"
          ],
          "name": "stdout"
        }
      ]
    },
    {
      "cell_type": "code",
      "metadata": {
        "colab": {
          "base_uri": "https://localhost:8080/",
          "height": 1000
        },
        "id": "pM-oQUZme_lu",
        "outputId": "b736a20b-43a4-473c-e1da-6fc573f1f7e0"
      },
      "source": [
        "# 데이터 샘플 출력\r\n",
        "print('학습용 데이터 첫번째 이미지 화소 정보')\r\n",
        "print(X_test[0])\r\n",
        "plt.figure(figsize=(10, 10))\r\n",
        "plt.imshow(X_train[0], cmap='gray')\r\n",
        "print('학습용 데이터 첫번째 이미지 라벨:', Y_train[0])"
      ],
      "execution_count": 4,
      "outputs": [
        {
          "output_type": "stream",
          "text": [
            "학습용 데이터 첫번째 이미지 화소 정보\n",
            "[[  0   0   0   0   0   0   0   0   0   0   0   0   0   0   0   0   0   0\n",
            "    0   0   0   0   0   0   0   0   0   0]\n",
            " [  0   0   0   0   0   0   0   0   0   0   0   0   0   0   0   0   0   0\n",
            "    0   0   0   0   0   0   0   0   0   0]\n",
            " [  0   0   0   0   0   0   0   0   0   0   0   0   0   0   0   0   0   0\n",
            "    0   0   0   0   0   0   0   0   0   0]\n",
            " [  0   0   0   0   0   0   0   0   0   0   0   0   0   0   0   0   0   0\n",
            "    0   0   0   0   0   0   0   0   0   0]\n",
            " [  0   0   0   0   0   0   0   0   0   0   0   0   0   0   0   0   0   0\n",
            "    0   0   0   0   0   0   0   0   0   0]\n",
            " [  0   0   0   0   0   0   0   0   0   0   0   0   0   0   0   0   0   0\n",
            "    0   0   0   0   0   0   0   0   0   0]\n",
            " [  0   0   0   0   0   0   0   0   0   0   0   0   0   0   0   0   0   0\n",
            "    0   0   0   0   0   0   0   0   0   0]\n",
            " [  0   0   0   0   0   0   0   0   0   0   0   0   0   0   0   0   0   0\n",
            "    0   3   1   0   0   7   0  37   0   0]\n",
            " [  0   0   0   0   0   0   0   0   0   0   0   0   0   1   2   0  27  84\n",
            "   11   0   0   0   0   0   0 119   0   0]\n",
            " [  0   0   0   0   0   0   0   0   0   0   0   0   0   1   0   0  88 143\n",
            "  110   0   0   0   0  22  93 106   0   0]\n",
            " [  0   0   0   0   0   0   0   0   0   0   0   0   0   4   0  53 129 120\n",
            "  147 175 157 166 135 154 168 140   0   0]\n",
            " [  0   0   0   0   0   0   0   0   0   0   0   0   2   0  11 137 130 128\n",
            "  160 176 159 167 178 149 151 144   0   0]\n",
            " [  0   0   0   0   0   0   1   0   2   1   0   3   0   0 115 114 106 137\n",
            "  168 153 156 165 167 143 157 158  11   0]\n",
            " [  0   0   0   0   1   0   0   0   0   0   3   0   0  89 139  90  94 153\n",
            "  149 131 151 169 172 143 159 169  48   0]\n",
            " [  0   0   0   0   0   0   2   4   1   0   0   0  98 136 110 109 110 162\n",
            "  135 144 149 159 167 144 158 169 119   0]\n",
            " [  0   0   2   2   1   2   0   0   0   0  26 108 117  99 111 117 136 156\n",
            "  134 154 154 156 160 141 147 156 178   0]\n",
            " [  3   0   0   0   0   0   0  21  53  92 117 111 103 115 129 134 143 154\n",
            "  165 170 154 151 154 143 138 150 165  43]\n",
            " [  0   0  23  54  65  76  85 118 128 123 111 113 118 127 125 139 133 136\n",
            "  160 140 155 161 144 155 172 161 189  62]\n",
            " [  0  68  94  90 111 114 111 114 115 127 135 136 143 126 127 151 154 143\n",
            "  148 125 162 162 144 138 153 162 196  58]\n",
            " [ 70 169 129 104  98 100  94  97  98 102 108 106 119 120 129 149 156 167\n",
            "  190 190 196 198 198 187 197 189 184  36]\n",
            " [ 16 126 171 188 188 184 171 153 135 120 126 127 146 185 195 209 208 255\n",
            "  209 177 245 252 251 251 247 220 206  49]\n",
            " [  0   0   0  12  67 106 164 185 199 210 211 210 208 190 150  82   8   0\n",
            "    0   0 178 208 188 175 162 158 151  11]\n",
            " [  0   0   0   0   0   0   0   0   0   0   0   0   0   0   0   0   0   0\n",
            "    0   0   0   0   0   0   0   0   0   0]\n",
            " [  0   0   0   0   0   0   0   0   0   0   0   0   0   0   0   0   0   0\n",
            "    0   0   0   0   0   0   0   0   0   0]\n",
            " [  0   0   0   0   0   0   0   0   0   0   0   0   0   0   0   0   0   0\n",
            "    0   0   0   0   0   0   0   0   0   0]\n",
            " [  0   0   0   0   0   0   0   0   0   0   0   0   0   0   0   0   0   0\n",
            "    0   0   0   0   0   0   0   0   0   0]\n",
            " [  0   0   0   0   0   0   0   0   0   0   0   0   0   0   0   0   0   0\n",
            "    0   0   0   0   0   0   0   0   0   0]\n",
            " [  0   0   0   0   0   0   0   0   0   0   0   0   0   0   0   0   0   0\n",
            "    0   0   0   0   0   0   0   0   0   0]]\n",
            "학습용 데이터 첫번째 이미지 라벨: 9\n"
          ],
          "name": "stdout"
        },
        {
          "output_type": "display_data",
          "data": {
            "image/png": "[encoded data removed]",
            "text/plain": [
              "<Figure size 720x720 with 1 Axes>"
            ]
          },
          "metadata": {
            "tags": [],
            "needs_background": "light"
          }
        }
      ]
    },
    {
      "cell_type": "code",
      "metadata": {
        "colab": {
          "base_uri": "https://localhost:8080/"
        },
        "id": "sGP8oYNsf8RR",
        "outputId": "c3bc3b25-90ed-4f38-cc8f-805831443e7f"
      },
      "source": [
        "# 데이터 스케일링\r\n",
        "X_train = X_train / 255.0\r\n",
        "X_test = X_test / 255.0\r\n",
        "print(X_train[0])\r\n",
        "\r\n",
        "# 데이터 모양 정보 전환\r\n",
        "X_train = X_train.reshape(60000, 28, 28, 1)\r\n",
        "X_test = X_test.reshape(10000, 28, 28, 1)"
      ],
      "execution_count": 5,
      "outputs": [
        {
          "output_type": "stream",
          "text": [
            "[[0.         0.         0.         0.         0.         0.\n",
            "  0.         0.         0.         0.         0.         0.\n",
            "  0.         0.         0.         0.         0.         0.\n",
            "  0.         0.         0.         0.         0.         0.\n",
            "  0.         0.         0.         0.        ]\n",
            " [0.         0.         0.         0.         0.         0.\n",
            "  0.         0.         0.         0.         0.         0.\n",
            "  0.         0.         0.         0.         0.         0.\n",
            "  0.         0.         0.         0.         0.         0.\n",
            "  0.         0.         0.         0.        ]\n",
            " [0.         0.         0.         0.         0.         0.\n",
            "  0.         0.         0.         0.         0.         0.\n",
            "  0.         0.         0.         0.         0.         0.\n",
            "  0.         0.         0.         0.         0.         0.\n",
            "  0.         0.         0.         0.        ]\n",
            " [0.         0.         0.         0.         0.         0.\n",
            "  0.         0.         0.         0.         0.         0.\n",
            "  0.00392157 0.         0.         0.05098039 0.28627451 0.\n",
            "  0.         0.00392157 0.01568627 0.         0.         0.\n",
            "  0.         0.00392157 0.00392157 0.        ]\n",
            " [0.         0.         0.         0.         0.         0.\n",
            "  0.         0.         0.         0.         0.         0.\n",
            "  0.01176471 0.         0.14117647 0.53333333 0.49803922 0.24313725\n",
            "  0.21176471 0.         0.         0.         0.00392157 0.01176471\n",
            "  0.01568627 0.         0.         0.01176471]\n",
            " [0.         0.         0.         0.         0.         0.\n",
            "  0.         0.         0.         0.         0.         0.\n",
            "  0.02352941 0.         0.4        0.8        0.69019608 0.5254902\n",
            "  0.56470588 0.48235294 0.09019608 0.         0.         0.\n",
            "  0.         0.04705882 0.03921569 0.        ]\n",
            " [0.         0.         0.         0.         0.         0.\n",
            "  0.         0.         0.         0.         0.         0.\n",
            "  0.         0.         0.60784314 0.9254902  0.81176471 0.69803922\n",
            "  0.41960784 0.61176471 0.63137255 0.42745098 0.25098039 0.09019608\n",
            "  0.30196078 0.50980392 0.28235294 0.05882353]\n",
            " [0.         0.         0.         0.         0.         0.\n",
            "  0.         0.         0.         0.         0.         0.00392157\n",
            "  0.         0.27058824 0.81176471 0.8745098  0.85490196 0.84705882\n",
            "  0.84705882 0.63921569 0.49803922 0.4745098  0.47843137 0.57254902\n",
            "  0.55294118 0.34509804 0.6745098  0.25882353]\n",
            " [0.         0.         0.         0.         0.         0.\n",
            "  0.         0.         0.         0.00392157 0.00392157 0.00392157\n",
            "  0.         0.78431373 0.90980392 0.90980392 0.91372549 0.89803922\n",
            "  0.8745098  0.8745098  0.84313725 0.83529412 0.64313725 0.49803922\n",
            "  0.48235294 0.76862745 0.89803922 0.        ]\n",
            " [0.         0.         0.         0.         0.         0.\n",
            "  0.         0.         0.         0.         0.         0.\n",
            "  0.         0.71764706 0.88235294 0.84705882 0.8745098  0.89411765\n",
            "  0.92156863 0.89019608 0.87843137 0.87058824 0.87843137 0.86666667\n",
            "  0.8745098  0.96078431 0.67843137 0.        ]\n",
            " [0.         0.         0.         0.         0.         0.\n",
            "  0.         0.         0.         0.         0.         0.\n",
            "  0.         0.75686275 0.89411765 0.85490196 0.83529412 0.77647059\n",
            "  0.70588235 0.83137255 0.82352941 0.82745098 0.83529412 0.8745098\n",
            "  0.8627451  0.95294118 0.79215686 0.        ]\n",
            " [0.         0.         0.         0.         0.         0.\n",
            "  0.         0.         0.         0.00392157 0.01176471 0.\n",
            "  0.04705882 0.85882353 0.8627451  0.83137255 0.85490196 0.75294118\n",
            "  0.6627451  0.89019608 0.81568627 0.85490196 0.87843137 0.83137255\n",
            "  0.88627451 0.77254902 0.81960784 0.20392157]\n",
            " [0.         0.         0.         0.         0.         0.\n",
            "  0.         0.         0.         0.         0.02352941 0.\n",
            "  0.38823529 0.95686275 0.87058824 0.8627451  0.85490196 0.79607843\n",
            "  0.77647059 0.86666667 0.84313725 0.83529412 0.87058824 0.8627451\n",
            "  0.96078431 0.46666667 0.65490196 0.21960784]\n",
            " [0.         0.         0.         0.         0.         0.\n",
            "  0.         0.         0.         0.01568627 0.         0.\n",
            "  0.21568627 0.9254902  0.89411765 0.90196078 0.89411765 0.94117647\n",
            "  0.90980392 0.83529412 0.85490196 0.8745098  0.91764706 0.85098039\n",
            "  0.85098039 0.81960784 0.36078431 0.        ]\n",
            " [0.         0.         0.00392157 0.01568627 0.02352941 0.02745098\n",
            "  0.00784314 0.         0.         0.         0.         0.\n",
            "  0.92941176 0.88627451 0.85098039 0.8745098  0.87058824 0.85882353\n",
            "  0.87058824 0.86666667 0.84705882 0.8745098  0.89803922 0.84313725\n",
            "  0.85490196 1.         0.30196078 0.        ]\n",
            " [0.         0.01176471 0.         0.         0.         0.\n",
            "  0.         0.         0.         0.24313725 0.56862745 0.8\n",
            "  0.89411765 0.81176471 0.83529412 0.86666667 0.85490196 0.81568627\n",
            "  0.82745098 0.85490196 0.87843137 0.8745098  0.85882353 0.84313725\n",
            "  0.87843137 0.95686275 0.62352941 0.        ]\n",
            " [0.         0.         0.         0.         0.07058824 0.17254902\n",
            "  0.32156863 0.41960784 0.74117647 0.89411765 0.8627451  0.87058824\n",
            "  0.85098039 0.88627451 0.78431373 0.80392157 0.82745098 0.90196078\n",
            "  0.87843137 0.91764706 0.69019608 0.7372549  0.98039216 0.97254902\n",
            "  0.91372549 0.93333333 0.84313725 0.        ]\n",
            " [0.         0.22352941 0.73333333 0.81568627 0.87843137 0.86666667\n",
            "  0.87843137 0.81568627 0.8        0.83921569 0.81568627 0.81960784\n",
            "  0.78431373 0.62352941 0.96078431 0.75686275 0.80784314 0.8745098\n",
            "  1.         1.         0.86666667 0.91764706 0.86666667 0.82745098\n",
            "  0.8627451  0.90980392 0.96470588 0.        ]\n",
            " [0.01176471 0.79215686 0.89411765 0.87843137 0.86666667 0.82745098\n",
            "  0.82745098 0.83921569 0.80392157 0.80392157 0.80392157 0.8627451\n",
            "  0.94117647 0.31372549 0.58823529 1.         0.89803922 0.86666667\n",
            "  0.7372549  0.60392157 0.74901961 0.82352941 0.8        0.81960784\n",
            "  0.87058824 0.89411765 0.88235294 0.        ]\n",
            " [0.38431373 0.91372549 0.77647059 0.82352941 0.87058824 0.89803922\n",
            "  0.89803922 0.91764706 0.97647059 0.8627451  0.76078431 0.84313725\n",
            "  0.85098039 0.94509804 0.25490196 0.28627451 0.41568627 0.45882353\n",
            "  0.65882353 0.85882353 0.86666667 0.84313725 0.85098039 0.8745098\n",
            "  0.8745098  0.87843137 0.89803922 0.11372549]\n",
            " [0.29411765 0.8        0.83137255 0.8        0.75686275 0.80392157\n",
            "  0.82745098 0.88235294 0.84705882 0.7254902  0.77254902 0.80784314\n",
            "  0.77647059 0.83529412 0.94117647 0.76470588 0.89019608 0.96078431\n",
            "  0.9372549  0.8745098  0.85490196 0.83137255 0.81960784 0.87058824\n",
            "  0.8627451  0.86666667 0.90196078 0.2627451 ]\n",
            " [0.18823529 0.79607843 0.71764706 0.76078431 0.83529412 0.77254902\n",
            "  0.7254902  0.74509804 0.76078431 0.75294118 0.79215686 0.83921569\n",
            "  0.85882353 0.86666667 0.8627451  0.9254902  0.88235294 0.84705882\n",
            "  0.78039216 0.80784314 0.72941176 0.70980392 0.69411765 0.6745098\n",
            "  0.70980392 0.80392157 0.80784314 0.45098039]\n",
            " [0.         0.47843137 0.85882353 0.75686275 0.70196078 0.67058824\n",
            "  0.71764706 0.76862745 0.8        0.82352941 0.83529412 0.81176471\n",
            "  0.82745098 0.82352941 0.78431373 0.76862745 0.76078431 0.74901961\n",
            "  0.76470588 0.74901961 0.77647059 0.75294118 0.69019608 0.61176471\n",
            "  0.65490196 0.69411765 0.82352941 0.36078431]\n",
            " [0.         0.         0.29019608 0.74117647 0.83137255 0.74901961\n",
            "  0.68627451 0.6745098  0.68627451 0.70980392 0.7254902  0.7372549\n",
            "  0.74117647 0.7372549  0.75686275 0.77647059 0.8        0.81960784\n",
            "  0.82352941 0.82352941 0.82745098 0.7372549  0.7372549  0.76078431\n",
            "  0.75294118 0.84705882 0.66666667 0.        ]\n",
            " [0.00784314 0.         0.         0.         0.25882353 0.78431373\n",
            "  0.87058824 0.92941176 0.9372549  0.94901961 0.96470588 0.95294118\n",
            "  0.95686275 0.86666667 0.8627451  0.75686275 0.74901961 0.70196078\n",
            "  0.71372549 0.71372549 0.70980392 0.69019608 0.65098039 0.65882353\n",
            "  0.38823529 0.22745098 0.         0.        ]\n",
            " [0.         0.         0.         0.         0.         0.\n",
            "  0.         0.15686275 0.23921569 0.17254902 0.28235294 0.16078431\n",
            "  0.1372549  0.         0.         0.         0.         0.\n",
            "  0.         0.         0.         0.         0.         0.\n",
            "  0.         0.         0.         0.        ]\n",
            " [0.         0.         0.         0.         0.         0.\n",
            "  0.         0.         0.         0.         0.         0.\n",
            "  0.         0.         0.         0.         0.         0.\n",
            "  0.         0.         0.         0.         0.         0.\n",
            "  0.         0.         0.         0.        ]\n",
            " [0.         0.         0.         0.         0.         0.\n",
            "  0.         0.         0.         0.         0.         0.\n",
            "  0.         0.         0.         0.         0.         0.\n",
            "  0.         0.         0.         0.         0.         0.\n",
            "  0.         0.         0.         0.        ]]\n"
          ],
          "name": "stdout"
        }
      ]
    },
    {
      "cell_type": "code",
      "metadata": {
        "colab": {
          "base_uri": "https://localhost:8080/"
        },
        "id": "0S3D8Uw5h14K",
        "outputId": "352d5873-02d5-46f0-c3ba-f379fc5efbb4"
      },
      "source": [
        "# 라벨 정보 수정\r\n",
        "Y_train = np_utils.to_categorical(Y_train, 10)\r\n",
        "print('학습용 데이터 첫번째 이미지 라벨:', Y_train[0])\r\n",
        "\r\n",
        "Y_test = np_utils.to_categorical(Y_test, 10)\r\n",
        "print('평가용 데이터 첫번째 이미지 라벨:', Y_train[0])\r\n",
        "\r\n",
        "print('학습용 입력 데이터:', X_train.shape)\r\n",
        "print('학습용 출력 데이터:', Y_train.shape)\r\n",
        "\r\n",
        "print('평가용 입력 데이터:', X_test.shape)\r\n",
        "print('평가용 출력 데아터:', Y_test.shape)"
      ],
      "execution_count": 6,
      "outputs": [
        {
          "output_type": "stream",
          "text": [
            "학습용 데이터 첫번째 이미지 라벨: [0. 0. 0. 0. 0. 0. 0. 0. 0. 1.]\n",
            "평가용 데이터 첫번째 이미지 라벨: [0. 0. 0. 0. 0. 0. 0. 0. 0. 1.]\n",
            "학습용 입력 데이터: (60000, 28, 28, 1)\n",
            "학습용 출력 데이터: (60000, 10)\n",
            "평가용 입력 데이터: (10000, 28, 28, 1)\n",
            "평가용 출력 데아터: (10000, 10)\n"
          ],
          "name": "stdout"
        }
      ]
    },
    {
      "cell_type": "markdown",
      "metadata": {
        "id": "co0dJVPFmPsa"
      },
      "source": [
        "3. 인공신경망 구현"
      ]
    },
    {
      "cell_type": "code",
      "metadata": {
        "colab": {
          "base_uri": "https://localhost:8080/"
        },
        "id": "CbkRiCsgkAxs",
        "outputId": "8fa202c2-2556-4638-f7fe-0be2d4b8a986"
      },
      "source": [
        "# CNN 구현\r\n",
        "model = Sequential()\r\n",
        "model.add(InputLayer(input_shape=(28,28,1)))\r\n",
        "\r\n",
        "# 첫번째 합성곱 블럭\r\n",
        "model.add(Conv2D(filters=32*4,\r\n",
        "                 kernel_size=3,\r\n",
        "                 padding='same',\r\n",
        "                 activation='relu'))\r\n",
        "\r\n",
        "model.add(MaxPool2D(pool_size=2))\r\n",
        "\r\n",
        "# 두번째 합성곱 블럭\r\n",
        "model.add(Conv2D(filters=64*4,\r\n",
        "                 kernel_size=3,\r\n",
        "                 padding='same',\r\n",
        "                 activation='relu'))\r\n",
        "\r\n",
        "model.add(MaxPool2D(pool_size=2))\r\n",
        "\r\n",
        "# 세번째 합성곱 블럭\r\n",
        "model.add(Conv2D(filters=128*4,\r\n",
        "                 kernel_size=3,\r\n",
        "                 padding='same',\r\n",
        "                 activation='relu'))\r\n",
        "\r\n",
        "model.add(MaxPool2D(pool_size=2))\r\n",
        "\r\n",
        "# 네번째 합성곱 블럭\r\n",
        "model.add(Conv2D(filters=256*4,\r\n",
        "                 kernel_size=3,\r\n",
        "                 padding='same',\r\n",
        "                 activation='relu'))\r\n",
        "\r\n",
        "model.add(MaxPool2D(pool_size=2))\r\n",
        "\r\n",
        "# DNN 입성\r\n",
        "model.add(Flatten())\r\n",
        "\r\n",
        "model.add(Dense(units=500,\r\n",
        "                activation='relu'))\r\n",
        "\r\n",
        "model.add(Dense(units=10,\r\n",
        "                activation='softmax'))\r\n",
        "\r\n",
        "print('CNN 요약')\r\n",
        "model.summary()"
      ],
      "execution_count": 11,
      "outputs": [
        {
          "output_type": "stream",
          "text": [
            "CNN 요약\n",
            "Model: \"sequential_1\"\n",
            "_________________________________________________________________\n",
            "Layer (type)                 Output Shape              Param #   \n",
            "=================================================================\n",
            "conv2d_4 (Conv2D)            (None, 28, 28, 128)       1280      \n",
            "_________________________________________________________________\n",
            "max_pooling2d_4 (MaxPooling2 (None, 14, 14, 128)       0         \n",
            "_________________________________________________________________\n",
            "conv2d_5 (Conv2D)            (None, 14, 14, 256)       295168    \n",
            "_________________________________________________________________\n",
            "max_pooling2d_5 (MaxPooling2 (None, 7, 7, 256)         0         \n",
            "_________________________________________________________________\n",
            "conv2d_6 (Conv2D)            (None, 7, 7, 512)         1180160   \n",
            "_________________________________________________________________\n",
            "max_pooling2d_6 (MaxPooling2 (None, 3, 3, 512)         0         \n",
            "_________________________________________________________________\n",
            "conv2d_7 (Conv2D)            (None, 3, 3, 1024)        4719616   \n",
            "_________________________________________________________________\n",
            "max_pooling2d_7 (MaxPooling2 (None, 1, 1, 1024)        0         \n",
            "_________________________________________________________________\n",
            "flatten_1 (Flatten)          (None, 1024)              0         \n",
            "_________________________________________________________________\n",
            "dense_2 (Dense)              (None, 500)               512500    \n",
            "_________________________________________________________________\n",
            "dense_3 (Dense)              (None, 10)                5010      \n",
            "=================================================================\n",
            "Total params: 6,713,734\n",
            "Trainable params: 6,713,734\n",
            "Non-trainable params: 0\n",
            "_________________________________________________________________\n"
          ],
          "name": "stdout"
        }
      ]
    },
    {
      "cell_type": "markdown",
      "metadata": {
        "id": "P60iMCuvx4jE"
      },
      "source": [
        "4. 인공신경망 학습"
      ]
    },
    {
      "cell_type": "code",
      "metadata": {
        "colab": {
          "base_uri": "https://localhost:8080/"
        },
        "id": "h-TJovxdpQZc",
        "outputId": "1dfc7b31-9f14-4178-803c-1de88ccbed81"
      },
      "source": [
        "# 학습 방식 설정\r\n",
        "model.compile(optimizer='adam',\r\n",
        "              loss='categorical_crossentropy',\r\n",
        "              metrics=['acc'])\r\n",
        "\r\n",
        "# CNN 학습\r\n",
        "print('학습 시작')\r\n",
        "begin = time()\r\n",
        "\r\n",
        "model.fit(x=X_train,\r\n",
        "          y=Y_train,\r\n",
        "          epochs=MY_EPOCH,\r\n",
        "          batch_size=MY_BATCH,\r\n",
        "          verbose=1)\r\n",
        "\r\n",
        "end = time()\r\n",
        "\r\n",
        "print('학습 시간: {:.2f}' .format(end-begin))"
      ],
      "execution_count": 12,
      "outputs": [
        {
          "output_type": "stream",
          "text": [
            "학습 시작\n",
            "Epoch 1/10\n",
            "120/120 [==============================] - 6s 50ms/step - loss: 1.0428 - acc: 0.6106\n",
            "Epoch 2/10\n",
            "120/120 [==============================] - 6s 50ms/step - loss: 0.3398 - acc: 0.8741\n",
            "Epoch 3/10\n",
            "120/120 [==============================] - 6s 50ms/step - loss: 0.2698 - acc: 0.9010\n",
            "Epoch 4/10\n",
            "120/120 [==============================] - 6s 50ms/step - loss: 0.2302 - acc: 0.9159\n",
            "Epoch 5/10\n",
            "120/120 [==============================] - 6s 50ms/step - loss: 0.1987 - acc: 0.9278\n",
            "Epoch 6/10\n",
            "120/120 [==============================] - 6s 50ms/step - loss: 0.1728 - acc: 0.9356\n",
            "Epoch 7/10\n",
            "120/120 [==============================] - 6s 50ms/step - loss: 0.1523 - acc: 0.9434\n",
            "Epoch 8/10\n",
            "120/120 [==============================] - 6s 50ms/step - loss: 0.1364 - acc: 0.9506\n",
            "Epoch 9/10\n",
            "120/120 [==============================] - 6s 50ms/step - loss: 0.1128 - acc: 0.9579\n",
            "Epoch 10/10\n",
            "120/120 [==============================] - 6s 50ms/step - loss: 0.1013 - acc: 0.9625\n",
            "학습 시간: 60.42\n"
          ],
          "name": "stdout"
        }
      ]
    },
    {
      "cell_type": "markdown",
      "metadata": {
        "id": "F70qucWszd2c"
      },
      "source": [
        "5. CNN 평가"
      ]
    },
    {
      "cell_type": "code",
      "metadata": {
        "colab": {
          "base_uri": "https://localhost:8080/"
        },
        "id": "TBaV0-q_y9BG",
        "outputId": "cb9a8851-9077-46a3-96cf-51ece018f0d0"
      },
      "source": [
        "# CNN 평가\r\n",
        "score = model.evaluate(x=X_test,\r\n",
        "                       y=Y_test,\r\n",
        "                       verbose=1)\r\n",
        "\r\n",
        "print('최종 손실값: {:.2f}' .format(score[0]))\r\n",
        "print('최종 정확도: {:.2f}' .format(score[1]))"
      ],
      "execution_count": 13,
      "outputs": [
        {
          "output_type": "stream",
          "text": [
            "313/313 [==============================] - 1s 3ms/step - loss: 0.2388 - acc: 0.9250\n",
            "최종 손실값: 0.24\n",
            "최종 정확도: 0.93\n"
          ],
          "name": "stdout"
        }
      ]
    },
    {
      "cell_type": "markdown",
      "metadata": {
        "id": "ZsK3F1MG0QCt"
      },
      "source": [
        "6. CNN 예측"
      ]
    },
    {
      "cell_type": "code",
      "metadata": {
        "colab": {
          "base_uri": "https://localhost:8080/",
          "height": 680
        },
        "id": "zg9Rjl7F0BkI",
        "outputId": "29bc5867-e935-4cb7-b2f8-8abae2dcf263"
      },
      "source": [
        "# 샘플링 이미지 지정\r\n",
        "image = X_test[1234]\r\n",
        "print(image.shape)\r\n",
        "\r\n",
        "# batch 정보 추가\r\n",
        "image = image.reshape(1, 28, 28, 1)\r\n",
        "pred = model.predict(image)\r\n",
        "\r\n",
        "# 정보 출력\r\n",
        "print('CNN 예측 값:', pred)\r\n",
        "print('정답:',Y_test[1234])\r\n",
        "\r\n",
        "tmp = image.reshape(28, 28)\r\n",
        "plt.figure(figsize=(10, 10))\r\n",
        "plt.imshow(tmp, cmap='gray')"
      ],
      "execution_count": 10,
      "outputs": [
        {
          "output_type": "stream",
          "text": [
            "(28, 28, 1)\n",
            "CNN 예측 값: [[7.1893723e-05 1.8906749e-06 2.6453084e-01 1.9257077e-05 7.3341292e-01\n",
            "  2.2914622e-07 1.9549183e-03 5.3945723e-07 6.4114724e-06 1.0654294e-06]]\n",
            "정답: [0. 0. 0. 0. 1. 0. 0. 0. 0. 0.]\n"
          ],
          "name": "stdout"
        },
        {
          "output_type": "execute_result",
          "data": {
            "text/plain": [
              "<matplotlib.image.AxesImage at 0x7f07e64b4b70>"
            ]
          },
          "metadata": {
            "tags": []
          },
          "execution_count": 10
        },
        {
          "output_type": "display_data",
          "data": {
            "image/png": "[encoded data removed]",
            "text/plain": [
              "<Figure size 720x720 with 1 Axes>"
            ]
          },
          "metadata": {
            "tags": [],
            "needs_background": "light"
          }
        }
      ]
    },
    {
      "cell_type": "code",
      "metadata": {
        "id": "o4_nIEvh0Y3d"
      },
      "source": [
        ""
      ],
      "execution_count": 10,
      "outputs": []
    }
  ]
}